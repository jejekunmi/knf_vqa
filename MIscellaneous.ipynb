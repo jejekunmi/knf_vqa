{
 "cells": [
  {
   "cell_type": "code",
   "execution_count": null,
   "metadata": {
    "collapsed": false
   },
   "outputs": [],
   "source": [
    "import data_processing\n",
    "import util\n",
    "import numpy as np\n",
    "# for auto-reloading external modules\n",
    "# see http://stackoverflow.com/questions/1907993/autoreload-of-modules-in-ipython\n",
    "%load_ext autoreload\n",
    "%autoreload 2"
   ]
  },
  {
   "cell_type": "code",
   "execution_count": null,
   "metadata": {
    "collapsed": false
   },
   "outputs": [],
   "source": [
    "data_processing.gen_q_to_anstype()"
   ]
  },
  {
   "cell_type": "code",
   "execution_count": null,
   "metadata": {
    "collapsed": false
   },
   "outputs": [],
   "source": [
    "# Load data (excluding images)\n",
    "\n",
    "# Restrict the number of possible answers using this\n",
    "# Decreasing this will increase the number of classes \n",
    "train_min_count = 99\n",
    "val_cutoff = 107183\n",
    "# Load data\n",
    "dataset = util.load_data_all(train_min_count, val_cutoff=107183, limit=100000000)\n",
    "np_embeddings = np.load(\"data/glove.trimmed.100.npz\")[\"glove\"]\n",
    "answer_to_id, id_to_answer = util.load_answer_map(min_count=train_min_count)\n",
    "\n",
    "print(\"*\" * 60)\n",
    "print(\"Questions_train\", dataset.train.questions.shape)\n",
    "print(\"Questions_mask_train\", dataset.train.mask.shape)\n",
    "print(\"Questions_ids_train\", dataset.train.question_ids.shape)\n",
    "print(\"Image_ids_train\", dataset.train.image_ids.shape)\n",
    "print(\"All_answers_train\", dataset.train.all_answers.shape)\n",
    "print(\"Answers_train\", dataset.train.answers.shape)\n",
    "print(\"*\" * 60)\n",
    "print(\"Questions_val\", dataset.val.questions.shape)\n",
    "print(\"Questions_mask_val\", dataset.val.mask.shape)\n",
    "print(\"Questions_ids_val\", dataset.val.question_ids.shape)\n",
    "print(\"Image_ids_val\", dataset.val.image_ids.shape)\n",
    "print(\"All_answers_val\", dataset.val.all_answers.shape)\n",
    "print(\"Answers_val\", dataset.val.answers.shape)\n",
    "print(\"*\" * 60)\n",
    "print(\"Questions_test\", dataset.test.questions.shape)\n",
    "print(\"Questions_mask_test\", dataset.test.mask.shape)\n",
    "print(\"Questions_ids_test\", dataset.test.question_ids.shape)\n",
    "print(\"Image_ids_test\", dataset.test.image_ids.shape)\n",
    "print(\"All_answers_test\", dataset.test.all_answers.shape)\n",
    "print(\"Answers_test\", dataset.test.answers.shape)\n",
    "print(\"*\" * 60)\n",
    "print(\"np_embeddings\", np_embeddings.shape)\n",
    "print(\"*\" * 60)\n",
    "print(\"There are\", len(answer_to_id), \"possible answers (including <unk>)\")\n",
    "print(\"This should be less than or equal to above\", np.max(dataset.train.answers) + 1) \n",
    "print(\"This should be less than or equal to above\", np.max(dataset.val.answers) + 1) \n",
    "print(\"This should be less than or equal to above\", np.max(dataset.test.answers) + 1) \n",
    "print(\"This should be less than or equal to above\", np.max(dataset.train.all_answers) + 1) \n",
    "print(\"This should be less than or equal to above\", np.max(dataset.val.all_answers) + 1) \n",
    "print(\"This should be less than or equal to above\", np.max(dataset.test.all_answers) + 1) \n",
    "print(\"*\" * 60)"
   ]
  },
  {
   "cell_type": "code",
   "execution_count": null,
   "metadata": {
    "collapsed": false
   },
   "outputs": [],
   "source": [
    "print(dataset.train.question_ids[:10])"
   ]
  },
  {
   "cell_type": "code",
   "execution_count": null,
   "metadata": {
    "collapsed": false
   },
   "outputs": [],
   "source": [
    "from collections import Counter\n",
    "print(1.0 * Counter(dataset.test.answers)[1]/ dataset.test.answers.shape[0])"
   ]
  },
  {
   "cell_type": "code",
   "execution_count": null,
   "metadata": {
    "collapsed": false
   },
   "outputs": [],
   "source": [
    "print(id_to_answer[1])"
   ]
  },
  {
   "cell_type": "code",
   "execution_count": 1,
   "metadata": {
    "collapsed": false
   },
   "outputs": [
    {
     "name": "stdout",
     "output_type": "stream",
     "text": [
      "658111\n"
     ]
    }
   ],
   "source": [
    "import pickle\n",
    "with open('data/qid_to_anstype.dat', 'rb') as fp:\n",
    "    qid_to_anstype = pickle.load(fp)\n",
    "    \n",
    "print(len(qid_to_anstype))"
   ]
  },
  {
   "cell_type": "code",
   "execution_count": null,
   "metadata": {
    "collapsed": false
   },
   "outputs": [],
   "source": [
    "# import concurrent.futures as confu\n",
    "# import random\n",
    "# import time\n",
    "# def slow_square_even(x):\n",
    "#     print('calculating: {}'.format(x))\n",
    "#     if x % 2:\n",
    "#         raise ValueError(\"Error: {} is odd number!\".format(x))\n",
    "#     time.sleep(random.randint(1, 10) / 4.0)\n",
    "#     return x ** 2\n",
    "\n",
    "# def confu_tpe(tasks, max_workers):\n",
    "#     ans = []\n",
    "#     print('concurrent.futures.ThreadPoolExecutor')\n",
    "#     with confu.ThreadPoolExecutor(max_workers) as executor:\n",
    "#         futures = [executor.submit(slow_square_even, x) for x in tasks]\n",
    "        \n",
    "#         for future in confu.as_completed(futures):\n",
    "#             try:\n",
    "#                 print(future.result())\n",
    "#                 ans.append(future.result())\n",
    "#             except ValueError as e:\n",
    "#                 print(e)\n",
    "#     return ans\n",
    "\n",
    "# a = confu_tpe(list(range(20)), 3)\n",
    "# print(a)"
   ]
  }
 ],
 "metadata": {
  "kernelspec": {
   "display_name": "Python 3",
   "language": "python",
   "name": "python3"
  },
  "language_info": {
   "codemirror_mode": {
    "name": "ipython",
    "version": 3
   },
   "file_extension": ".py",
   "mimetype": "text/x-python",
   "name": "python",
   "nbconvert_exporter": "python",
   "pygments_lexer": "ipython3",
   "version": "3.5.2"
  }
 },
 "nbformat": 4,
 "nbformat_minor": 0
}
