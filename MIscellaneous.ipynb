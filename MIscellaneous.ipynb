{
 "cells": [
  {
   "cell_type": "code",
   "execution_count": 1,
   "metadata": {
    "collapsed": false
   },
   "outputs": [],
   "source": [
    "import data_processing\n",
    "import util\n",
    "import numpy as np\n",
    "# for auto-reloading external modules\n",
    "# see http://stackoverflow.com/questions/1907993/autoreload-of-modules-in-ipython\n",
    "%load_ext autoreload\n",
    "%autoreload 2"
   ]
  },
  {
   "cell_type": "code",
   "execution_count": null,
   "metadata": {
    "collapsed": true
   },
   "outputs": [],
   "source": []
  },
  {
   "cell_type": "code",
   "execution_count": null,
   "metadata": {
    "collapsed": false
   },
   "outputs": [],
   "source": [
    "answer_to_id, id_to_answer = util.load_answer_map()"
   ]
  },
  {
   "cell_type": "code",
   "execution_count": null,
   "metadata": {
    "collapsed": false
   },
   "outputs": [],
   "source": [
    "print(len(answer_to_id), len(id_to_answer))\n",
    "print(answer_to_id['no'])\n",
    "print(id_to_answer[2170])\n",
    "print(id_to_answer[4])"
   ]
  },
  {
   "cell_type": "code",
   "execution_count": null,
   "metadata": {
    "collapsed": false
   },
   "outputs": [],
   "source": [
    "ans_train = np.load(\"data/answers_train.npz\")[\"answers\"]\n",
    "ans_val = np.load(\"data/answers_val.npz\")[\"answers\"]\n",
    "print(ans_train.shape)\n",
    "print(ans_val.shape)\n",
    "print(ans_train[0])"
   ]
  },
  {
   "cell_type": "code",
   "execution_count": 13,
   "metadata": {
    "collapsed": false
   },
   "outputs": [
    {
     "name": "stdout",
     "output_type": "stream",
     "text": [
      "\n",
      "*** Processing downloaded datasets ***\n",
      "data/download_images_train\n",
      "Tensor(\"decode_image/cond_jpeg/Merge:0\", dtype=uint8)\n",
      "WARNING:tensorflow:From /home/jejekunmi/knf_vqa/data_processing.py:136: initialize_all_variables (from tensorflow.python.ops.variables) is deprecated and will be removed after 2017-03-02.\n",
      "Instructions for updating:\n",
      "Use `tf.global_variables_initializer` instead.\n"
     ]
    },
    {
     "name": "stderr",
     "output_type": "stream",
     "text": [
      "WARNING:tensorflow:From /home/jejekunmi/knf_vqa/data_processing.py:136: initialize_all_variables (from tensorflow.python.ops.variables) is deprecated and will be removed after 2017-03-02.\n",
      "Instructions for updating:\n",
      "Use `tf.global_variables_initializer` instead.\n"
     ]
    },
    {
     "name": "stdout",
     "output_type": "stream",
     "text": [
      "b'data/download_images_train/COCO_train2014_000000191320.jpg' (224, 224, 3)\n",
      "(224, 224, 3)\n",
      "b'data/download_images_train/COCO_train2014_000000358581.jpg' (224, 224, 3)\n",
      "(224, 224, 3)\n",
      "b'data/download_images_train/COCO_train2014_000000236938.jpg' (224, 224, 3)\n",
      "(224, 224, 3)\n",
      "b'data/download_images_train/COCO_train2014_000000261139.jpg' (224, 224, 3)\n",
      "(224, 224, 3)\n",
      "b'data/download_images_train/COCO_train2014_000000518951.jpg' (224, 224, 3)\n",
      "(224, 224, 3)\n",
      "b'data/download_images_train/COCO_train2014_000000208754.jpg' (224, 224, 3)\n",
      "(224, 224, 3)\n",
      "************************************\n",
      "\n"
     ]
    }
   ],
   "source": [
    "data = data_processing.preprocess_images(\"data\")"
   ]
  },
  {
   "cell_type": "code",
   "execution_count": 7,
   "metadata": {
    "collapsed": false
   },
   "outputs": [
    {
     "name": "stdout",
     "output_type": "stream",
     "text": [
      "concurrent.futures.ThreadPoolExecutor\n",
      "calculating: 0\n",
      "calculating: 1\n",
      "calculating: 2\n",
      "Error: 1 is odd number!\n",
      "calculating: 3\n",
      "calculating: 4\n",
      "Error: 3 is odd number!\n",
      "calculating: 54\n",
      "calculating: 6\n",
      "\n",
      "Error: 5 is odd number!\n",
      "calculating: 7\n",
      "calculating: 8\n",
      "0\n",
      "Error: 7 is odd number!\n",
      "calculating: 9\n",
      "calculating: 10\n",
      "36\n",
      "Error: 9 is odd number!\n",
      "calculating: 11\n",
      "calculating: 12\n",
      "100\n",
      "Error: 11 is odd number!\n",
      "calculating: 13\n",
      "calculating: 14\n",
      "16\n",
      "Error: 13 is odd number!\n",
      "calculating: 15\n",
      "calculating: 16\n",
      "64\n",
      "Error: 15 is odd number!\n",
      "calculating: 17\n",
      "calculating: 18\n",
      "256\n",
      "Error: 17 is odd number!\n",
      "calculating: 19\n",
      "196\n",
      "Error: 19 is odd number!\n",
      "144\n",
      "324\n",
      "[4, 0, 36, 100, 16, 64, 256, 196, 144, 324]\n"
     ]
    }
   ],
   "source": [
    "import concurrent.futures as confu\n",
    "import random\n",
    "import time\n",
    "def slow_square_even(x):\n",
    "    print('calculating: {}'.format(x))\n",
    "    if x % 2:\n",
    "        raise ValueError(\"Error: {} is odd number!\".format(x))\n",
    "    time.sleep(random.randint(1, 10) / 4.0)\n",
    "    return x ** 2\n",
    "\n",
    "def confu_tpe(tasks, max_workers):\n",
    "    ans = []\n",
    "    print('concurrent.futures.ThreadPoolExecutor')\n",
    "    with confu.ThreadPoolExecutor(max_workers) as executor:\n",
    "        futures = [executor.submit(slow_square_even, x) for x in tasks]\n",
    "        \n",
    "        for future in confu.as_completed(futures):\n",
    "            try:\n",
    "                print(future.result())\n",
    "                ans.append(future.result())\n",
    "            except ValueError as e:\n",
    "                print(e)\n",
    "    return ans\n",
    "\n",
    "a = confu_tpe(list(range(20)), 3)\n",
    "print(a)"
   ]
  }
 ],
 "metadata": {
  "kernelspec": {
   "display_name": "Python 3",
   "language": "python",
   "name": "python3"
  },
  "language_info": {
   "codemirror_mode": {
    "name": "ipython",
    "version": 3
   },
   "file_extension": ".py",
   "mimetype": "text/x-python",
   "name": "python",
   "nbconvert_exporter": "python",
   "pygments_lexer": "ipython3",
   "version": "3.5.2"
  }
 },
 "nbformat": 4,
 "nbformat_minor": 0
}
